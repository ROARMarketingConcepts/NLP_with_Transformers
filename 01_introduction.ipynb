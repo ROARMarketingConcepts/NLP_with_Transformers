{
  "cells": [
    {
      "cell_type": "code",
      "execution_count": 1,
      "metadata": {
        "colab": {
          "base_uri": "https://localhost:8080/"
        },
        "id": "Kn_HjT5g_OEE",
        "outputId": "04f4826b-7902-43b9-ac43-fff05857dfd8"
      },
      "outputs": [
        {
          "output_type": "stream",
          "name": "stdout",
          "text": [
            "Cloning into 'notebooks'...\n",
            "remote: Enumerating objects: 530, done.\u001b[K\n",
            "remote: Counting objects: 100% (210/210), done.\u001b[K\n",
            "remote: Compressing objects: 100% (48/48), done.\u001b[K\n",
            "remote: Total 530 (delta 184), reused 162 (delta 162), pack-reused 320 (from 2)\u001b[K\n",
            "Receiving objects: 100% (530/530), 28.52 MiB | 10.54 MiB/s, done.\n",
            "Resolving deltas: 100% (253/253), done.\n",
            "/content/notebooks\n",
            "⏳ Installing base requirements ...\n",
            "✅ Base requirements installed!\n",
            "⏳ Installing Git LFS ...\n",
            "✅ Git LFS installed!\n"
          ]
        }
      ],
      "source": [
        "# Uncomment and run this cell if you're on Colab or Kaggle\n",
        "!git clone https://github.com/nlp-with-transformers/notebooks.git\n",
        "%cd notebooks\n",
        "from install import *\n",
        "install_requirements()"
      ]
    },
    {
      "cell_type": "code",
      "execution_count": 2,
      "metadata": {
        "colab": {
          "base_uri": "https://localhost:8080/"
        },
        "id": "xVt-yUqn_OEG",
        "outputId": "76417436-f795-476c-ac6c-f48cb34482fe"
      },
      "outputs": [
        {
          "output_type": "stream",
          "name": "stdout",
          "text": [
            "Using transformers v4.16.2\n",
            "Using datasets v1.16.1\n"
          ]
        }
      ],
      "source": [
        "#hide\n",
        "from utils import *\n",
        "setup_chapter()"
      ]
    },
    {
      "cell_type": "markdown",
      "metadata": {
        "id": "epUuXhFh_OEG"
      },
      "source": [
        "# Hello Transformers"
      ]
    },
    {
      "cell_type": "markdown",
      "metadata": {
        "id": "oMNT6Wmo_OEH"
      },
      "source": [
        "<img alt=\"transformer-timeline\" caption=\"The transformers timeline\" src=\"https://github.com/nlp-with-transformers/notebooks/blob/main/images/chapter01_timeline.png?raw=1\" id=\"transformer-timeline\"/>"
      ]
    },
    {
      "cell_type": "markdown",
      "metadata": {
        "id": "O87IkPA8_OEH"
      },
      "source": [
        "## The Encoder-Decoder Framework"
      ]
    },
    {
      "cell_type": "markdown",
      "metadata": {
        "id": "vVWyYJNV_OEH"
      },
      "source": [
        "<img alt=\"rnn\" caption=\"Unrolling an RNN in time.\" src=\"https://github.com/nlp-with-transformers/notebooks/blob/main/images/chapter01_rnn.png?raw=1\" id=\"rnn\"/>"
      ]
    },
    {
      "cell_type": "markdown",
      "metadata": {
        "id": "xj5uV8hU_OEH"
      },
      "source": [
        "<img alt=\"enc-dec\" caption=\"Encoder-decoder architecture with a pair of RNNs. In general, there are many more recurrent layers than those shown.\" src=\"https://github.com/nlp-with-transformers/notebooks/blob/main/images/chapter01_enc-dec.png?raw=1\" id=\"enc-dec\"/>"
      ]
    },
    {
      "cell_type": "markdown",
      "metadata": {
        "id": "6AoVTGbK_OEH"
      },
      "source": [
        "## Attention Mechanisms"
      ]
    },
    {
      "cell_type": "markdown",
      "metadata": {
        "id": "pqVwBeTx_OEH"
      },
      "source": [
        "<img alt=\"enc-dec-attn\" caption=\"Encoder-decoder architecture with an attention mechanism for a pair of RNNs.\" src=\"https://github.com/nlp-with-transformers/notebooks/blob/main/images/chapter01_enc-dec-attn.png?raw=1\" id=\"enc-dec-attn\"/>"
      ]
    },
    {
      "cell_type": "markdown",
      "metadata": {
        "id": "PJwrzAc1_OEI"
      },
      "source": [
        "<img alt=\"attention-alignment\" width=\"500\" caption=\"RNN encoder-decoder alignment of words in English and the generated translation in French (courtesy of Dzmitry Bahdanau).\" src=\"https://github.com/nlp-with-transformers/notebooks/blob/main/images/chapter02_attention-alignment.png?raw=1\" id=\"attention-alignment\"/>"
      ]
    },
    {
      "cell_type": "markdown",
      "metadata": {
        "id": "cQoQEihO_OEI"
      },
      "source": [
        "<img alt=\"transformer-self-attn\" caption=\"Encoder-decoder architecture of the original Transformer.\" src=\"https://github.com/nlp-with-transformers/notebooks/blob/main/images/chapter01_self-attention.png?raw=1\" id=\"transformer-self-attn\"/>"
      ]
    },
    {
      "cell_type": "markdown",
      "metadata": {
        "id": "o530jzBg_OEI"
      },
      "source": [
        "## Transfer Learning in NLP"
      ]
    },
    {
      "cell_type": "markdown",
      "metadata": {
        "id": "bVoNNCm4_OEI"
      },
      "source": [
        "<img alt=\"transfer-learning\" caption=\"Comparison of traditional supervised learning (left) and transfer learning (right).\" src=\"https://github.com/nlp-with-transformers/notebooks/blob/main/images/chapter01_transfer-learning.png?raw=1\" id=\"transfer-learning\"/>  "
      ]
    },
    {
      "cell_type": "markdown",
      "metadata": {
        "id": "XYxtuER1_OEI"
      },
      "source": [
        "<img alt=\"ulmfit\" width=\"500\" caption=\"The ULMFiT process (courtesy of Jeremy Howard).\" src=\"https://github.com/nlp-with-transformers/notebooks/blob/main/images/chapter01_ulmfit.png?raw=1\" id=\"ulmfit\"/>"
      ]
    },
    {
      "cell_type": "markdown",
      "metadata": {
        "id": "c3HuOfp4_OEI"
      },
      "source": [
        "## Hugging Face Transformers: Bridging the Gap"
      ]
    },
    {
      "cell_type": "markdown",
      "metadata": {
        "id": "sf94MAL6_OEI"
      },
      "source": [
        "## A Tour of Transformer Applications"
      ]
    },
    {
      "cell_type": "code",
      "execution_count": 3,
      "metadata": {
        "id": "5Db8nX9q_OEI"
      },
      "outputs": [],
      "source": [
        "text = \"\"\"Dear Amazon, last week I ordered an Optimus Prime action figure \\\n",
        "from your online store in Germany. Unfortunately, when I opened the package, \\\n",
        "I discovered to my horror that I had been sent an action figure of Megatron \\\n",
        "instead! As a lifelong enemy of the Decepticons, I hope you can understand my \\\n",
        "dilemma. To resolve the issue, I demand an exchange of Megatron for the \\\n",
        "Optimus Prime figure I ordered. Enclosed are copies of my records concerning \\\n",
        "this purchase. I expect to hear from you soon. Sincerely, Bumblebee.\"\"\""
      ]
    },
    {
      "cell_type": "markdown",
      "metadata": {
        "id": "eSE5Ni2o_OEJ"
      },
      "source": [
        "### Text Classification"
      ]
    },
    {
      "cell_type": "code",
      "execution_count": 4,
      "metadata": {
        "colab": {
          "base_uri": "https://localhost:8080/",
          "height": 145,
          "referenced_widgets": [
            "7ffd0549eb5549e9a6ca79c44626853c",
            "612c81ed0da14dae9e0c86aa55c7317a",
            "c7b11a1595704325bb81ff18fc80a710",
            "0bd8cf25b6ad41d99ddc23e4d978fee4",
            "2f59eaa7f85f4705a70b754f86e0b872",
            "ddefbe12322446b1afee9c7ad9e3354f",
            "811ef2abfa104ce5bb60de6724e11366",
            "4704e688a70345248f39711cdbd7f257",
            "7f78fac2dd5e45f398e9d3448ca70311",
            "bd15ea9800314e1cac6bbd3dc5bbc780",
            "a8c99d604e59438182d5ad2b5272214d",
            "d4d624a124f94636a592607655590557",
            "9be40d4457ee4d1e8e68084028534f26",
            "b4f4d4c7662c47d1833c548a6944b43a",
            "07e7ffa6bcb4423ea600f10870b8546a",
            "f06a713a180b4095ad3b14d52a9d2949",
            "8521db24000a44d5a58d4368a5a02683",
            "b4c27d1430ae426c969a3d8fdf808d62",
            "b665a666891a460696fc52446c50d9b5",
            "8acb9a5104b84c53beb74bdf6d621cf9",
            "122f2a2cdc2c4e7e8fb9a7c1b776358b",
            "5b4be9a8e5c140ddb3af23dae4446ad1",
            "82058628d90e4f0bba7ca0cf32f37e7f",
            "fe8a44fc79124a73ba73a0cc6d759740",
            "7d9b09dd7252444dbcec7dbba1d50300",
            "c4ffbe265c9446eda70ec0a13872b789",
            "933c85849d644f1f86b978be289e3e31",
            "4e47bfc58c3f446886e32985868ac824",
            "e8c50f76bebb47c68b2e671c4acb5527",
            "46fd4e2be4be4354bb813742c34b9ce2",
            "00c81d89cf774875b417151f9156a118",
            "b2db5a4b5efd4ec9a16298882d16aae8",
            "fcee32d62c32413ca6f52a149fdc0347",
            "0e20d4dad9a84353a58254ec246dfb86",
            "9ff1c35f000e449ba119c3e320a04482",
            "fc7c2098922d4eecbcd760a10f15649e",
            "cf35c2d3288e4d6d81c70fd889f913ee",
            "e7babe5975d2412197002f24b7429a5b",
            "6d30f84a50fd4de0882d03e8375293c0",
            "1bf74f0e51a146c78af7e96ac94b56a3",
            "dc0e33613f80434188bb32f4341a8da8",
            "eaacba11d182486087d1427102bf9811",
            "37e847414fff4e76a27473a6c0506170",
            "03507ce6373641df9ad67d723650da6b"
          ]
        },
        "id": "HaSBOJ5j_OEJ",
        "outputId": "0e3cd372-d76f-4e2b-9eda-a3dbd4e6cf51"
      },
      "outputs": [
        {
          "output_type": "display_data",
          "data": {
            "text/plain": [
              "Downloading:   0%|          | 0.00/629 [00:00<?, ?B/s]"
            ],
            "application/vnd.jupyter.widget-view+json": {
              "version_major": 2,
              "version_minor": 0,
              "model_id": "7ffd0549eb5549e9a6ca79c44626853c"
            }
          },
          "metadata": {}
        },
        {
          "output_type": "display_data",
          "data": {
            "text/plain": [
              "Downloading:   0%|          | 0.00/255M [00:00<?, ?B/s]"
            ],
            "application/vnd.jupyter.widget-view+json": {
              "version_major": 2,
              "version_minor": 0,
              "model_id": "d4d624a124f94636a592607655590557"
            }
          },
          "metadata": {}
        },
        {
          "output_type": "display_data",
          "data": {
            "text/plain": [
              "Downloading:   0%|          | 0.00/48.0 [00:00<?, ?B/s]"
            ],
            "application/vnd.jupyter.widget-view+json": {
              "version_major": 2,
              "version_minor": 0,
              "model_id": "82058628d90e4f0bba7ca0cf32f37e7f"
            }
          },
          "metadata": {}
        },
        {
          "output_type": "display_data",
          "data": {
            "text/plain": [
              "Downloading:   0%|          | 0.00/226k [00:00<?, ?B/s]"
            ],
            "application/vnd.jupyter.widget-view+json": {
              "version_major": 2,
              "version_minor": 0,
              "model_id": "0e20d4dad9a84353a58254ec246dfb86"
            }
          },
          "metadata": {}
        }
      ],
      "source": [
        "#hide_output\n",
        "from transformers import pipeline\n",
        "\n",
        "classifier = pipeline(\"text-classification\")"
      ]
    },
    {
      "cell_type": "code",
      "execution_count": 5,
      "metadata": {
        "colab": {
          "base_uri": "https://localhost:8080/",
          "height": 80
        },
        "id": "0zqVXTWh_OEJ",
        "outputId": "9c891e07-31b6-4bb2-8177-9762b342b23b"
      },
      "outputs": [
        {
          "output_type": "execute_result",
          "data": {
            "text/plain": [
              "      label     score\n",
              "0  NEGATIVE  0.901545"
            ],
            "text/html": [
              "\n",
              "  <div id=\"df-c8162225-694e-48cc-ae3a-befd89a34016\" class=\"colab-df-container\">\n",
              "    <div>\n",
              "<style scoped>\n",
              "    .dataframe tbody tr th:only-of-type {\n",
              "        vertical-align: middle;\n",
              "    }\n",
              "\n",
              "    .dataframe tbody tr th {\n",
              "        vertical-align: top;\n",
              "    }\n",
              "\n",
              "    .dataframe thead th {\n",
              "        text-align: right;\n",
              "    }\n",
              "</style>\n",
              "<table border=\"1\" class=\"dataframe\">\n",
              "  <thead>\n",
              "    <tr style=\"text-align: right;\">\n",
              "      <th></th>\n",
              "      <th>label</th>\n",
              "      <th>score</th>\n",
              "    </tr>\n",
              "  </thead>\n",
              "  <tbody>\n",
              "    <tr>\n",
              "      <th>0</th>\n",
              "      <td>NEGATIVE</td>\n",
              "      <td>0.901545</td>\n",
              "    </tr>\n",
              "  </tbody>\n",
              "</table>\n",
              "</div>\n",
              "    <div class=\"colab-df-buttons\">\n",
              "\n",
              "  <div class=\"colab-df-container\">\n",
              "    <button class=\"colab-df-convert\" onclick=\"convertToInteractive('df-c8162225-694e-48cc-ae3a-befd89a34016')\"\n",
              "            title=\"Convert this dataframe to an interactive table.\"\n",
              "            style=\"display:none;\">\n",
              "\n",
              "  <svg xmlns=\"http://www.w3.org/2000/svg\" height=\"24px\" viewBox=\"0 -960 960 960\">\n",
              "    <path d=\"M120-120v-720h720v720H120Zm60-500h600v-160H180v160Zm220 220h160v-160H400v160Zm0 220h160v-160H400v160ZM180-400h160v-160H180v160Zm440 0h160v-160H620v160ZM180-180h160v-160H180v160Zm440 0h160v-160H620v160Z\"/>\n",
              "  </svg>\n",
              "    </button>\n",
              "\n",
              "  <style>\n",
              "    .colab-df-container {\n",
              "      display:flex;\n",
              "      gap: 12px;\n",
              "    }\n",
              "\n",
              "    .colab-df-convert {\n",
              "      background-color: #E8F0FE;\n",
              "      border: none;\n",
              "      border-radius: 50%;\n",
              "      cursor: pointer;\n",
              "      display: none;\n",
              "      fill: #1967D2;\n",
              "      height: 32px;\n",
              "      padding: 0 0 0 0;\n",
              "      width: 32px;\n",
              "    }\n",
              "\n",
              "    .colab-df-convert:hover {\n",
              "      background-color: #E2EBFA;\n",
              "      box-shadow: 0px 1px 2px rgba(60, 64, 67, 0.3), 0px 1px 3px 1px rgba(60, 64, 67, 0.15);\n",
              "      fill: #174EA6;\n",
              "    }\n",
              "\n",
              "    .colab-df-buttons div {\n",
              "      margin-bottom: 4px;\n",
              "    }\n",
              "\n",
              "    [theme=dark] .colab-df-convert {\n",
              "      background-color: #3B4455;\n",
              "      fill: #D2E3FC;\n",
              "    }\n",
              "\n",
              "    [theme=dark] .colab-df-convert:hover {\n",
              "      background-color: #434B5C;\n",
              "      box-shadow: 0px 1px 3px 1px rgba(0, 0, 0, 0.15);\n",
              "      filter: drop-shadow(0px 1px 2px rgba(0, 0, 0, 0.3));\n",
              "      fill: #FFFFFF;\n",
              "    }\n",
              "  </style>\n",
              "\n",
              "    <script>\n",
              "      const buttonEl =\n",
              "        document.querySelector('#df-c8162225-694e-48cc-ae3a-befd89a34016 button.colab-df-convert');\n",
              "      buttonEl.style.display =\n",
              "        google.colab.kernel.accessAllowed ? 'block' : 'none';\n",
              "\n",
              "      async function convertToInteractive(key) {\n",
              "        const element = document.querySelector('#df-c8162225-694e-48cc-ae3a-befd89a34016');\n",
              "        const dataTable =\n",
              "          await google.colab.kernel.invokeFunction('convertToInteractive',\n",
              "                                                    [key], {});\n",
              "        if (!dataTable) return;\n",
              "\n",
              "        const docLinkHtml = 'Like what you see? Visit the ' +\n",
              "          '<a target=\"_blank\" href=https://colab.research.google.com/notebooks/data_table.ipynb>data table notebook</a>'\n",
              "          + ' to learn more about interactive tables.';\n",
              "        element.innerHTML = '';\n",
              "        dataTable['output_type'] = 'display_data';\n",
              "        await google.colab.output.renderOutput(dataTable, element);\n",
              "        const docLink = document.createElement('div');\n",
              "        docLink.innerHTML = docLinkHtml;\n",
              "        element.appendChild(docLink);\n",
              "      }\n",
              "    </script>\n",
              "  </div>\n",
              "\n",
              "\n",
              "    </div>\n",
              "  </div>\n"
            ],
            "application/vnd.google.colaboratory.intrinsic+json": {
              "type": "dataframe",
              "summary": "{\n  \"name\": \"pd\",\n  \"rows\": 1,\n  \"fields\": [\n    {\n      \"column\": \"label\",\n      \"properties\": {\n        \"dtype\": \"string\",\n        \"num_unique_values\": 1,\n        \"samples\": [\n          \"NEGATIVE\"\n        ],\n        \"semantic_type\": \"\",\n        \"description\": \"\"\n      }\n    },\n    {\n      \"column\": \"score\",\n      \"properties\": {\n        \"dtype\": \"number\",\n        \"std\": null,\n        \"min\": 0.9015445709228516,\n        \"max\": 0.9015445709228516,\n        \"num_unique_values\": 1,\n        \"samples\": [\n          0.9015445709228516\n        ],\n        \"semantic_type\": \"\",\n        \"description\": \"\"\n      }\n    }\n  ]\n}"
            }
          },
          "metadata": {},
          "execution_count": 5
        }
      ],
      "source": [
        "import pandas as pd\n",
        "\n",
        "outputs = classifier(text)\n",
        "pd.DataFrame(outputs)"
      ]
    },
    {
      "cell_type": "markdown",
      "metadata": {
        "id": "sm4apuPu_OEJ"
      },
      "source": [
        "### Named Entity Recognition"
      ]
    },
    {
      "cell_type": "code",
      "execution_count": 6,
      "metadata": {
        "colab": {
          "base_uri": "https://localhost:8080/",
          "height": 487,
          "referenced_widgets": [
            "98b748805bb24f1ea11d25d616cda950",
            "d608a4ec026c4663b282f57b21cc9ddf",
            "0c1aa587abb942f5a4b5783ddd660ab1",
            "b7c0afc72242478d9cfca81b76b0e663",
            "4bb4293f960c4135b2fdff0eafd7d747",
            "f4cb49c1906e4a65bb8dba486aee501f",
            "b3f6b6d7eead4117a2c67ad955534434",
            "ad181bc86ba54947abe118d69ab2cd79",
            "3315d652f6db4187b8b1e3f646ec7e89",
            "353b270f0ecc439a84d95a2801b5331a",
            "c8c0f23efa4b43fd80367b477790bf80",
            "4690b486008649a1a5ee49baa9ebf47d",
            "ccbce174359945479f0e9d172df1c931",
            "3f587ca6c0e34536992cbfee755cb83f",
            "a1e6021a5a1742a495289467652ca175",
            "6e96b826d6e8475cb4dada5a3e6ce304",
            "5e064a81ad5a4d5cbf9156ae4e0e43bc",
            "35e89802dfc74a5daa3ff614cc9034d2",
            "5ce4b1b21d34452fb36f28147897e094",
            "6a42eda381d04e849af9e606d7701912",
            "988520a82c2f480b94a6d7921cb002b7",
            "7ab9a64638b74b9382b962848601f264",
            "b9b4c428790c4bb29eee8949b723d9a6",
            "d0655bdc06cc4f3ab1d44e94af7adbb8",
            "2f753fcba7dd4e5097f1015cb4f28806",
            "750b7c97394a4124b3b9c2d1d1f9e845",
            "7bd23febab9a4b80be854833a77646a6",
            "07d132177f4d41608edb5f8418e5f313",
            "dbee030406584a389df0a196e871f8d6",
            "18430a8753b34baa805f7b0a1d7a76c8",
            "0f6a6ac1dd914b4f8181d66aec851a97",
            "ffb0ac5146dc42819206ea6a36c4cfee",
            "137ba92e02d24771a33a13af554edb5a",
            "f16cd5e7da3f4e96b8db2a2fecbd0660",
            "ea04845e70cf421d86cfce2cebbdad1b",
            "442dcc549a414048806231a2cccea54d",
            "d6b75f51718045b8986f29f00861f45d",
            "20d4db58323743fea06a84c5a2de72b3",
            "eaece99dd9ad4e0a9926b049d35686f9",
            "24bdcd02c1134bb5b9468e66489bca04",
            "028e4585480d43639eea3740b0bae25e",
            "db528be82eae4452b5397ef381ab9908",
            "f29607481a684f4b8e8bf7ac3cb44b43",
            "a0f4d760dfc5420f9bba99d69dca52f2"
          ]
        },
        "id": "w19uio6U_OEJ",
        "outputId": "337dc71c-8974-4884-c306-9bef18caab2d"
      },
      "outputs": [
        {
          "output_type": "display_data",
          "data": {
            "text/plain": [
              "Downloading:   0%|          | 0.00/998 [00:00<?, ?B/s]"
            ],
            "application/vnd.jupyter.widget-view+json": {
              "version_major": 2,
              "version_minor": 0,
              "model_id": "98b748805bb24f1ea11d25d616cda950"
            }
          },
          "metadata": {}
        },
        {
          "output_type": "display_data",
          "data": {
            "text/plain": [
              "Downloading:   0%|          | 0.00/1.24G [00:00<?, ?B/s]"
            ],
            "application/vnd.jupyter.widget-view+json": {
              "version_major": 2,
              "version_minor": 0,
              "model_id": "4690b486008649a1a5ee49baa9ebf47d"
            }
          },
          "metadata": {}
        },
        {
          "output_type": "display_data",
          "data": {
            "text/plain": [
              "Downloading:   0%|          | 0.00/60.0 [00:00<?, ?B/s]"
            ],
            "application/vnd.jupyter.widget-view+json": {
              "version_major": 2,
              "version_minor": 0,
              "model_id": "b9b4c428790c4bb29eee8949b723d9a6"
            }
          },
          "metadata": {}
        },
        {
          "output_type": "display_data",
          "data": {
            "text/plain": [
              "Downloading:   0%|          | 0.00/208k [00:00<?, ?B/s]"
            ],
            "application/vnd.jupyter.widget-view+json": {
              "version_major": 2,
              "version_minor": 0,
              "model_id": "f16cd5e7da3f4e96b8db2a2fecbd0660"
            }
          },
          "metadata": {}
        },
        {
          "output_type": "execute_result",
          "data": {
            "text/plain": [
              "  entity_group     score           word  start  end\n",
              "0          ORG  0.879010         Amazon      5   11\n",
              "1         MISC  0.990859  Optimus Prime     36   49\n",
              "2          LOC  0.999755        Germany     90   97\n",
              "3         MISC  0.556570           Mega    208  212\n",
              "4          PER  0.590257         ##tron    212  216\n",
              "5          ORG  0.669693         Decept    253  259\n",
              "6         MISC  0.498349        ##icons    259  264\n",
              "7         MISC  0.775362       Megatron    350  358\n",
              "8         MISC  0.987854  Optimus Prime    367  380\n",
              "9          PER  0.812096      Bumblebee    502  511"
            ],
            "text/html": [
              "\n",
              "  <div id=\"df-b8049096-9add-4780-8234-dccd299439a0\" class=\"colab-df-container\">\n",
              "    <div>\n",
              "<style scoped>\n",
              "    .dataframe tbody tr th:only-of-type {\n",
              "        vertical-align: middle;\n",
              "    }\n",
              "\n",
              "    .dataframe tbody tr th {\n",
              "        vertical-align: top;\n",
              "    }\n",
              "\n",
              "    .dataframe thead th {\n",
              "        text-align: right;\n",
              "    }\n",
              "</style>\n",
              "<table border=\"1\" class=\"dataframe\">\n",
              "  <thead>\n",
              "    <tr style=\"text-align: right;\">\n",
              "      <th></th>\n",
              "      <th>entity_group</th>\n",
              "      <th>score</th>\n",
              "      <th>word</th>\n",
              "      <th>start</th>\n",
              "      <th>end</th>\n",
              "    </tr>\n",
              "  </thead>\n",
              "  <tbody>\n",
              "    <tr>\n",
              "      <th>0</th>\n",
              "      <td>ORG</td>\n",
              "      <td>0.879010</td>\n",
              "      <td>Amazon</td>\n",
              "      <td>5</td>\n",
              "      <td>11</td>\n",
              "    </tr>\n",
              "    <tr>\n",
              "      <th>1</th>\n",
              "      <td>MISC</td>\n",
              "      <td>0.990859</td>\n",
              "      <td>Optimus Prime</td>\n",
              "      <td>36</td>\n",
              "      <td>49</td>\n",
              "    </tr>\n",
              "    <tr>\n",
              "      <th>2</th>\n",
              "      <td>LOC</td>\n",
              "      <td>0.999755</td>\n",
              "      <td>Germany</td>\n",
              "      <td>90</td>\n",
              "      <td>97</td>\n",
              "    </tr>\n",
              "    <tr>\n",
              "      <th>3</th>\n",
              "      <td>MISC</td>\n",
              "      <td>0.556570</td>\n",
              "      <td>Mega</td>\n",
              "      <td>208</td>\n",
              "      <td>212</td>\n",
              "    </tr>\n",
              "    <tr>\n",
              "      <th>4</th>\n",
              "      <td>PER</td>\n",
              "      <td>0.590257</td>\n",
              "      <td>##tron</td>\n",
              "      <td>212</td>\n",
              "      <td>216</td>\n",
              "    </tr>\n",
              "    <tr>\n",
              "      <th>5</th>\n",
              "      <td>ORG</td>\n",
              "      <td>0.669693</td>\n",
              "      <td>Decept</td>\n",
              "      <td>253</td>\n",
              "      <td>259</td>\n",
              "    </tr>\n",
              "    <tr>\n",
              "      <th>6</th>\n",
              "      <td>MISC</td>\n",
              "      <td>0.498349</td>\n",
              "      <td>##icons</td>\n",
              "      <td>259</td>\n",
              "      <td>264</td>\n",
              "    </tr>\n",
              "    <tr>\n",
              "      <th>7</th>\n",
              "      <td>MISC</td>\n",
              "      <td>0.775362</td>\n",
              "      <td>Megatron</td>\n",
              "      <td>350</td>\n",
              "      <td>358</td>\n",
              "    </tr>\n",
              "    <tr>\n",
              "      <th>8</th>\n",
              "      <td>MISC</td>\n",
              "      <td>0.987854</td>\n",
              "      <td>Optimus Prime</td>\n",
              "      <td>367</td>\n",
              "      <td>380</td>\n",
              "    </tr>\n",
              "    <tr>\n",
              "      <th>9</th>\n",
              "      <td>PER</td>\n",
              "      <td>0.812096</td>\n",
              "      <td>Bumblebee</td>\n",
              "      <td>502</td>\n",
              "      <td>511</td>\n",
              "    </tr>\n",
              "  </tbody>\n",
              "</table>\n",
              "</div>\n",
              "    <div class=\"colab-df-buttons\">\n",
              "\n",
              "  <div class=\"colab-df-container\">\n",
              "    <button class=\"colab-df-convert\" onclick=\"convertToInteractive('df-b8049096-9add-4780-8234-dccd299439a0')\"\n",
              "            title=\"Convert this dataframe to an interactive table.\"\n",
              "            style=\"display:none;\">\n",
              "\n",
              "  <svg xmlns=\"http://www.w3.org/2000/svg\" height=\"24px\" viewBox=\"0 -960 960 960\">\n",
              "    <path d=\"M120-120v-720h720v720H120Zm60-500h600v-160H180v160Zm220 220h160v-160H400v160Zm0 220h160v-160H400v160ZM180-400h160v-160H180v160Zm440 0h160v-160H620v160ZM180-180h160v-160H180v160Zm440 0h160v-160H620v160Z\"/>\n",
              "  </svg>\n",
              "    </button>\n",
              "\n",
              "  <style>\n",
              "    .colab-df-container {\n",
              "      display:flex;\n",
              "      gap: 12px;\n",
              "    }\n",
              "\n",
              "    .colab-df-convert {\n",
              "      background-color: #E8F0FE;\n",
              "      border: none;\n",
              "      border-radius: 50%;\n",
              "      cursor: pointer;\n",
              "      display: none;\n",
              "      fill: #1967D2;\n",
              "      height: 32px;\n",
              "      padding: 0 0 0 0;\n",
              "      width: 32px;\n",
              "    }\n",
              "\n",
              "    .colab-df-convert:hover {\n",
              "      background-color: #E2EBFA;\n",
              "      box-shadow: 0px 1px 2px rgba(60, 64, 67, 0.3), 0px 1px 3px 1px rgba(60, 64, 67, 0.15);\n",
              "      fill: #174EA6;\n",
              "    }\n",
              "\n",
              "    .colab-df-buttons div {\n",
              "      margin-bottom: 4px;\n",
              "    }\n",
              "\n",
              "    [theme=dark] .colab-df-convert {\n",
              "      background-color: #3B4455;\n",
              "      fill: #D2E3FC;\n",
              "    }\n",
              "\n",
              "    [theme=dark] .colab-df-convert:hover {\n",
              "      background-color: #434B5C;\n",
              "      box-shadow: 0px 1px 3px 1px rgba(0, 0, 0, 0.15);\n",
              "      filter: drop-shadow(0px 1px 2px rgba(0, 0, 0, 0.3));\n",
              "      fill: #FFFFFF;\n",
              "    }\n",
              "  </style>\n",
              "\n",
              "    <script>\n",
              "      const buttonEl =\n",
              "        document.querySelector('#df-b8049096-9add-4780-8234-dccd299439a0 button.colab-df-convert');\n",
              "      buttonEl.style.display =\n",
              "        google.colab.kernel.accessAllowed ? 'block' : 'none';\n",
              "\n",
              "      async function convertToInteractive(key) {\n",
              "        const element = document.querySelector('#df-b8049096-9add-4780-8234-dccd299439a0');\n",
              "        const dataTable =\n",
              "          await google.colab.kernel.invokeFunction('convertToInteractive',\n",
              "                                                    [key], {});\n",
              "        if (!dataTable) return;\n",
              "\n",
              "        const docLinkHtml = 'Like what you see? Visit the ' +\n",
              "          '<a target=\"_blank\" href=https://colab.research.google.com/notebooks/data_table.ipynb>data table notebook</a>'\n",
              "          + ' to learn more about interactive tables.';\n",
              "        element.innerHTML = '';\n",
              "        dataTable['output_type'] = 'display_data';\n",
              "        await google.colab.output.renderOutput(dataTable, element);\n",
              "        const docLink = document.createElement('div');\n",
              "        docLink.innerHTML = docLinkHtml;\n",
              "        element.appendChild(docLink);\n",
              "      }\n",
              "    </script>\n",
              "  </div>\n",
              "\n",
              "\n",
              "    <div id=\"df-af6a9383-46ea-4ac3-aca3-f8bdb3271bef\">\n",
              "      <button class=\"colab-df-quickchart\" onclick=\"quickchart('df-af6a9383-46ea-4ac3-aca3-f8bdb3271bef')\"\n",
              "                title=\"Suggest charts\"\n",
              "                style=\"display:none;\">\n",
              "\n",
              "<svg xmlns=\"http://www.w3.org/2000/svg\" height=\"24px\"viewBox=\"0 0 24 24\"\n",
              "     width=\"24px\">\n",
              "    <g>\n",
              "        <path d=\"M19 3H5c-1.1 0-2 .9-2 2v14c0 1.1.9 2 2 2h14c1.1 0 2-.9 2-2V5c0-1.1-.9-2-2-2zM9 17H7v-7h2v7zm4 0h-2V7h2v10zm4 0h-2v-4h2v4z\"/>\n",
              "    </g>\n",
              "</svg>\n",
              "      </button>\n",
              "\n",
              "<style>\n",
              "  .colab-df-quickchart {\n",
              "      --bg-color: #E8F0FE;\n",
              "      --fill-color: #1967D2;\n",
              "      --hover-bg-color: #E2EBFA;\n",
              "      --hover-fill-color: #174EA6;\n",
              "      --disabled-fill-color: #AAA;\n",
              "      --disabled-bg-color: #DDD;\n",
              "  }\n",
              "\n",
              "  [theme=dark] .colab-df-quickchart {\n",
              "      --bg-color: #3B4455;\n",
              "      --fill-color: #D2E3FC;\n",
              "      --hover-bg-color: #434B5C;\n",
              "      --hover-fill-color: #FFFFFF;\n",
              "      --disabled-bg-color: #3B4455;\n",
              "      --disabled-fill-color: #666;\n",
              "  }\n",
              "\n",
              "  .colab-df-quickchart {\n",
              "    background-color: var(--bg-color);\n",
              "    border: none;\n",
              "    border-radius: 50%;\n",
              "    cursor: pointer;\n",
              "    display: none;\n",
              "    fill: var(--fill-color);\n",
              "    height: 32px;\n",
              "    padding: 0;\n",
              "    width: 32px;\n",
              "  }\n",
              "\n",
              "  .colab-df-quickchart:hover {\n",
              "    background-color: var(--hover-bg-color);\n",
              "    box-shadow: 0 1px 2px rgba(60, 64, 67, 0.3), 0 1px 3px 1px rgba(60, 64, 67, 0.15);\n",
              "    fill: var(--button-hover-fill-color);\n",
              "  }\n",
              "\n",
              "  .colab-df-quickchart-complete:disabled,\n",
              "  .colab-df-quickchart-complete:disabled:hover {\n",
              "    background-color: var(--disabled-bg-color);\n",
              "    fill: var(--disabled-fill-color);\n",
              "    box-shadow: none;\n",
              "  }\n",
              "\n",
              "  .colab-df-spinner {\n",
              "    border: 2px solid var(--fill-color);\n",
              "    border-color: transparent;\n",
              "    border-bottom-color: var(--fill-color);\n",
              "    animation:\n",
              "      spin 1s steps(1) infinite;\n",
              "  }\n",
              "\n",
              "  @keyframes spin {\n",
              "    0% {\n",
              "      border-color: transparent;\n",
              "      border-bottom-color: var(--fill-color);\n",
              "      border-left-color: var(--fill-color);\n",
              "    }\n",
              "    20% {\n",
              "      border-color: transparent;\n",
              "      border-left-color: var(--fill-color);\n",
              "      border-top-color: var(--fill-color);\n",
              "    }\n",
              "    30% {\n",
              "      border-color: transparent;\n",
              "      border-left-color: var(--fill-color);\n",
              "      border-top-color: var(--fill-color);\n",
              "      border-right-color: var(--fill-color);\n",
              "    }\n",
              "    40% {\n",
              "      border-color: transparent;\n",
              "      border-right-color: var(--fill-color);\n",
              "      border-top-color: var(--fill-color);\n",
              "    }\n",
              "    60% {\n",
              "      border-color: transparent;\n",
              "      border-right-color: var(--fill-color);\n",
              "    }\n",
              "    80% {\n",
              "      border-color: transparent;\n",
              "      border-right-color: var(--fill-color);\n",
              "      border-bottom-color: var(--fill-color);\n",
              "    }\n",
              "    90% {\n",
              "      border-color: transparent;\n",
              "      border-bottom-color: var(--fill-color);\n",
              "    }\n",
              "  }\n",
              "</style>\n",
              "\n",
              "      <script>\n",
              "        async function quickchart(key) {\n",
              "          const quickchartButtonEl =\n",
              "            document.querySelector('#' + key + ' button');\n",
              "          quickchartButtonEl.disabled = true;  // To prevent multiple clicks.\n",
              "          quickchartButtonEl.classList.add('colab-df-spinner');\n",
              "          try {\n",
              "            const charts = await google.colab.kernel.invokeFunction(\n",
              "                'suggestCharts', [key], {});\n",
              "          } catch (error) {\n",
              "            console.error('Error during call to suggestCharts:', error);\n",
              "          }\n",
              "          quickchartButtonEl.classList.remove('colab-df-spinner');\n",
              "          quickchartButtonEl.classList.add('colab-df-quickchart-complete');\n",
              "        }\n",
              "        (() => {\n",
              "          let quickchartButtonEl =\n",
              "            document.querySelector('#df-af6a9383-46ea-4ac3-aca3-f8bdb3271bef button');\n",
              "          quickchartButtonEl.style.display =\n",
              "            google.colab.kernel.accessAllowed ? 'block' : 'none';\n",
              "        })();\n",
              "      </script>\n",
              "    </div>\n",
              "\n",
              "    </div>\n",
              "  </div>\n"
            ],
            "application/vnd.google.colaboratory.intrinsic+json": {
              "type": "dataframe",
              "summary": "{\n  \"name\": \"pd\",\n  \"rows\": 10,\n  \"fields\": [\n    {\n      \"column\": \"entity_group\",\n      \"properties\": {\n        \"dtype\": \"category\",\n        \"num_unique_values\": 4,\n        \"samples\": [\n          \"MISC\",\n          \"PER\",\n          \"ORG\"\n        ],\n        \"semantic_type\": \"\",\n        \"description\": \"\"\n      }\n    },\n    {\n      \"column\": \"score\",\n      \"properties\": {\n        \"dtype\": \"float32\",\n        \"num_unique_values\": 10,\n        \"samples\": [\n          0.9878539443016052,\n          0.990858793258667,\n          0.6696925759315491\n        ],\n        \"semantic_type\": \"\",\n        \"description\": \"\"\n      }\n    },\n    {\n      \"column\": \"word\",\n      \"properties\": {\n        \"dtype\": \"string\",\n        \"num_unique_values\": 9,\n        \"samples\": [\n          \"Megatron\",\n          \"Optimus Prime\",\n          \"Decept\"\n        ],\n        \"semantic_type\": \"\",\n        \"description\": \"\"\n      }\n    },\n    {\n      \"column\": \"start\",\n      \"properties\": {\n        \"dtype\": \"number\",\n        \"std\": 155,\n        \"min\": 5,\n        \"max\": 502,\n        \"num_unique_values\": 10,\n        \"samples\": [\n          367,\n          36,\n          253\n        ],\n        \"semantic_type\": \"\",\n        \"description\": \"\"\n      }\n    },\n    {\n      \"column\": \"end\",\n      \"properties\": {\n        \"dtype\": \"number\",\n        \"std\": 155,\n        \"min\": 11,\n        \"max\": 511,\n        \"num_unique_values\": 10,\n        \"samples\": [\n          380,\n          49,\n          259\n        ],\n        \"semantic_type\": \"\",\n        \"description\": \"\"\n      }\n    }\n  ]\n}"
            }
          },
          "metadata": {},
          "execution_count": 6
        }
      ],
      "source": [
        "ner_tagger = pipeline(\"ner\", aggregation_strategy=\"simple\")\n",
        "outputs = ner_tagger(text)\n",
        "pd.DataFrame(outputs)"
      ]
    },
    {
      "cell_type": "markdown",
      "metadata": {
        "id": "B_izW4xN_OEJ"
      },
      "source": [
        "### Question Answering"
      ]
    },
    {
      "cell_type": "code",
      "execution_count": 7,
      "metadata": {
        "colab": {
          "base_uri": "https://localhost:8080/",
          "height": 240,
          "referenced_widgets": [
            "d58d7efdee9240f9b49d0981e160b05a",
            "0212d70df7da4050a20494b5a01cf71f",
            "e9723779522b4c129be4611837b0a34f",
            "db6d3699e8bd4e66922eb16dd4812cde",
            "609a0c0ee16649a98c0372a8b85562cc",
            "4354e4f985c24881bb124e109d93bb81",
            "e946816143ee47729dcbbeadca15c0b7",
            "fe8a22e7206541559d2ab9fea2d24134",
            "c1f1ca86ec9f45eaa18024b35e7ad8f3",
            "d799d5c33e3749cc8b6e2ef294b52cf2",
            "89d1ebe2d4b842d9bcdcd4368041c539",
            "e2c209f169444d90919067f09fb739eb",
            "5649abf4f66a40989ca067d764260e6c",
            "8e555ff074b64e428d5110068d11faa3",
            "0dcca6193da34f279010cf875cf46d6a",
            "afaa37097232405591bc721258a0ecd4",
            "2d623457fdad4a71a3a7c66eaf20a07c",
            "51ddecb7ecf54777a87038bdd5bbe739",
            "fd44b71cb96b4e5b9aa0cd1148450a3b",
            "27e110c30c51471eab6255aca8444c3e",
            "ea889fb0ea56432baf3fbf996b56b495",
            "abeda3c93a364ab88b6b2f62ae85cf42",
            "957949302bec45d0b7aada739175a3a0",
            "63be728ac27d4cdfbc7cdb05c6dda327",
            "8b727a70fe45495692858b2b09cbc30b",
            "ce61db6da0a143f6a1d173d42aabc994",
            "e59328d930b54fb689ca2bd2c0b670c1",
            "bfc699f847614307bb58631a0abc1400",
            "41cdec723c784578994322275f8a22cd",
            "f177b35cd2664e3f8a7a2b54ddee7b83",
            "458a56ff6f6f4247b54c46bf77166392",
            "e721e644372d4a85a307422bcd913c4d",
            "cc3e274de4a743ce826c9b3552b511f8",
            "b9d978141b3247bf86706fb4e67c0649",
            "b036ecb5a89f4cca9e42f26aa6dfbf83",
            "e4a713c34398452c9f2847bb9935b79d",
            "e108e5c14cc64154ab2f6eae360a4b92",
            "4774ea8a73284630bb50dd0c132a1017",
            "f1d3fa6620304ee8a4f209d872496906",
            "48bb33bf8bac45089251d77f50dfc861",
            "e809c36ff75943d1bd207238357882a0",
            "c2f279c1c7534366bdcd58b39f584a9b",
            "b5cdf0ae39ed46fc9a28447dfd37f52a",
            "37e9aa18baaf4c0288e06197f5aa5778",
            "280fd82edbf440a7a4b5924e149d01bd",
            "7c14730b60c84610951e6188289cbc05",
            "436873605a3f40e1978964ce0bb0980d",
            "33662dd3bf3e4273988ab748e662c449",
            "5eb60f1d271c4dc28118e0f784d11c7f",
            "d844fbd0d9bb40ab81e8a39636d89816",
            "e32c32265c8347d980134ab0d100ed36",
            "d7c9c0c385564242aaafb8299a1f75f6",
            "0f8b904c2ee14b5fac0c441bac0f1052",
            "10d98ab312e940c5b3ae29c62a2201a2",
            "7a041471f95b41e0bd1dfdeb391464fb"
          ]
        },
        "id": "ZcujTW8H_OEK",
        "outputId": "fd64e3a7-1773-430d-f823-79bfec8582f8"
      },
      "outputs": [
        {
          "output_type": "display_data",
          "data": {
            "text/plain": [
              "Downloading:   0%|          | 0.00/473 [00:00<?, ?B/s]"
            ],
            "application/vnd.jupyter.widget-view+json": {
              "version_major": 2,
              "version_minor": 0,
              "model_id": "d58d7efdee9240f9b49d0981e160b05a"
            }
          },
          "metadata": {}
        },
        {
          "output_type": "display_data",
          "data": {
            "text/plain": [
              "Downloading:   0%|          | 0.00/249M [00:00<?, ?B/s]"
            ],
            "application/vnd.jupyter.widget-view+json": {
              "version_major": 2,
              "version_minor": 0,
              "model_id": "e2c209f169444d90919067f09fb739eb"
            }
          },
          "metadata": {}
        },
        {
          "output_type": "display_data",
          "data": {
            "text/plain": [
              "Downloading:   0%|          | 0.00/49.0 [00:00<?, ?B/s]"
            ],
            "application/vnd.jupyter.widget-view+json": {
              "version_major": 2,
              "version_minor": 0,
              "model_id": "957949302bec45d0b7aada739175a3a0"
            }
          },
          "metadata": {}
        },
        {
          "output_type": "display_data",
          "data": {
            "text/plain": [
              "Downloading:   0%|          | 0.00/208k [00:00<?, ?B/s]"
            ],
            "application/vnd.jupyter.widget-view+json": {
              "version_major": 2,
              "version_minor": 0,
              "model_id": "b9d978141b3247bf86706fb4e67c0649"
            }
          },
          "metadata": {}
        },
        {
          "output_type": "display_data",
          "data": {
            "text/plain": [
              "Downloading:   0%|          | 0.00/426k [00:00<?, ?B/s]"
            ],
            "application/vnd.jupyter.widget-view+json": {
              "version_major": 2,
              "version_minor": 0,
              "model_id": "280fd82edbf440a7a4b5924e149d01bd"
            }
          },
          "metadata": {}
        },
        {
          "output_type": "execute_result",
          "data": {
            "text/plain": [
              "      score  start  end                   answer\n",
              "0  0.631291    335  358  an exchange of Megatron"
            ],
            "text/html": [
              "\n",
              "  <div id=\"df-9e95c346-9430-46fb-a30f-0c3bb139783c\" class=\"colab-df-container\">\n",
              "    <div>\n",
              "<style scoped>\n",
              "    .dataframe tbody tr th:only-of-type {\n",
              "        vertical-align: middle;\n",
              "    }\n",
              "\n",
              "    .dataframe tbody tr th {\n",
              "        vertical-align: top;\n",
              "    }\n",
              "\n",
              "    .dataframe thead th {\n",
              "        text-align: right;\n",
              "    }\n",
              "</style>\n",
              "<table border=\"1\" class=\"dataframe\">\n",
              "  <thead>\n",
              "    <tr style=\"text-align: right;\">\n",
              "      <th></th>\n",
              "      <th>score</th>\n",
              "      <th>start</th>\n",
              "      <th>end</th>\n",
              "      <th>answer</th>\n",
              "    </tr>\n",
              "  </thead>\n",
              "  <tbody>\n",
              "    <tr>\n",
              "      <th>0</th>\n",
              "      <td>0.631291</td>\n",
              "      <td>335</td>\n",
              "      <td>358</td>\n",
              "      <td>an exchange of Megatron</td>\n",
              "    </tr>\n",
              "  </tbody>\n",
              "</table>\n",
              "</div>\n",
              "    <div class=\"colab-df-buttons\">\n",
              "\n",
              "  <div class=\"colab-df-container\">\n",
              "    <button class=\"colab-df-convert\" onclick=\"convertToInteractive('df-9e95c346-9430-46fb-a30f-0c3bb139783c')\"\n",
              "            title=\"Convert this dataframe to an interactive table.\"\n",
              "            style=\"display:none;\">\n",
              "\n",
              "  <svg xmlns=\"http://www.w3.org/2000/svg\" height=\"24px\" viewBox=\"0 -960 960 960\">\n",
              "    <path d=\"M120-120v-720h720v720H120Zm60-500h600v-160H180v160Zm220 220h160v-160H400v160Zm0 220h160v-160H400v160ZM180-400h160v-160H180v160Zm440 0h160v-160H620v160ZM180-180h160v-160H180v160Zm440 0h160v-160H620v160Z\"/>\n",
              "  </svg>\n",
              "    </button>\n",
              "\n",
              "  <style>\n",
              "    .colab-df-container {\n",
              "      display:flex;\n",
              "      gap: 12px;\n",
              "    }\n",
              "\n",
              "    .colab-df-convert {\n",
              "      background-color: #E8F0FE;\n",
              "      border: none;\n",
              "      border-radius: 50%;\n",
              "      cursor: pointer;\n",
              "      display: none;\n",
              "      fill: #1967D2;\n",
              "      height: 32px;\n",
              "      padding: 0 0 0 0;\n",
              "      width: 32px;\n",
              "    }\n",
              "\n",
              "    .colab-df-convert:hover {\n",
              "      background-color: #E2EBFA;\n",
              "      box-shadow: 0px 1px 2px rgba(60, 64, 67, 0.3), 0px 1px 3px 1px rgba(60, 64, 67, 0.15);\n",
              "      fill: #174EA6;\n",
              "    }\n",
              "\n",
              "    .colab-df-buttons div {\n",
              "      margin-bottom: 4px;\n",
              "    }\n",
              "\n",
              "    [theme=dark] .colab-df-convert {\n",
              "      background-color: #3B4455;\n",
              "      fill: #D2E3FC;\n",
              "    }\n",
              "\n",
              "    [theme=dark] .colab-df-convert:hover {\n",
              "      background-color: #434B5C;\n",
              "      box-shadow: 0px 1px 3px 1px rgba(0, 0, 0, 0.15);\n",
              "      filter: drop-shadow(0px 1px 2px rgba(0, 0, 0, 0.3));\n",
              "      fill: #FFFFFF;\n",
              "    }\n",
              "  </style>\n",
              "\n",
              "    <script>\n",
              "      const buttonEl =\n",
              "        document.querySelector('#df-9e95c346-9430-46fb-a30f-0c3bb139783c button.colab-df-convert');\n",
              "      buttonEl.style.display =\n",
              "        google.colab.kernel.accessAllowed ? 'block' : 'none';\n",
              "\n",
              "      async function convertToInteractive(key) {\n",
              "        const element = document.querySelector('#df-9e95c346-9430-46fb-a30f-0c3bb139783c');\n",
              "        const dataTable =\n",
              "          await google.colab.kernel.invokeFunction('convertToInteractive',\n",
              "                                                    [key], {});\n",
              "        if (!dataTable) return;\n",
              "\n",
              "        const docLinkHtml = 'Like what you see? Visit the ' +\n",
              "          '<a target=\"_blank\" href=https://colab.research.google.com/notebooks/data_table.ipynb>data table notebook</a>'\n",
              "          + ' to learn more about interactive tables.';\n",
              "        element.innerHTML = '';\n",
              "        dataTable['output_type'] = 'display_data';\n",
              "        await google.colab.output.renderOutput(dataTable, element);\n",
              "        const docLink = document.createElement('div');\n",
              "        docLink.innerHTML = docLinkHtml;\n",
              "        element.appendChild(docLink);\n",
              "      }\n",
              "    </script>\n",
              "  </div>\n",
              "\n",
              "\n",
              "    </div>\n",
              "  </div>\n"
            ],
            "application/vnd.google.colaboratory.intrinsic+json": {
              "type": "dataframe",
              "summary": "{\n  \"name\": \"pd\",\n  \"rows\": 1,\n  \"fields\": [\n    {\n      \"column\": \"score\",\n      \"properties\": {\n        \"dtype\": \"number\",\n        \"std\": null,\n        \"min\": 0.631290853023529,\n        \"max\": 0.631290853023529,\n        \"num_unique_values\": 1,\n        \"samples\": [\n          0.631290853023529\n        ],\n        \"semantic_type\": \"\",\n        \"description\": \"\"\n      }\n    },\n    {\n      \"column\": \"start\",\n      \"properties\": {\n        \"dtype\": \"number\",\n        \"std\": null,\n        \"min\": 335,\n        \"max\": 335,\n        \"num_unique_values\": 1,\n        \"samples\": [\n          335\n        ],\n        \"semantic_type\": \"\",\n        \"description\": \"\"\n      }\n    },\n    {\n      \"column\": \"end\",\n      \"properties\": {\n        \"dtype\": \"number\",\n        \"std\": null,\n        \"min\": 358,\n        \"max\": 358,\n        \"num_unique_values\": 1,\n        \"samples\": [\n          358\n        ],\n        \"semantic_type\": \"\",\n        \"description\": \"\"\n      }\n    },\n    {\n      \"column\": \"answer\",\n      \"properties\": {\n        \"dtype\": \"string\",\n        \"num_unique_values\": 1,\n        \"samples\": [\n          \"an exchange of Megatron\"\n        ],\n        \"semantic_type\": \"\",\n        \"description\": \"\"\n      }\n    }\n  ]\n}"
            }
          },
          "metadata": {},
          "execution_count": 7
        }
      ],
      "source": [
        "reader = pipeline(\"question-answering\")\n",
        "question = \"What does the customer want?\"\n",
        "outputs = reader(question=question, context=text)\n",
        "pd.DataFrame([outputs])"
      ]
    },
    {
      "cell_type": "markdown",
      "metadata": {
        "id": "x-89dWUr_OEK"
      },
      "source": [
        "### Summarization"
      ]
    },
    {
      "cell_type": "code",
      "execution_count": 8,
      "metadata": {
        "colab": {
          "base_uri": "https://localhost:8080/",
          "height": 228,
          "referenced_widgets": [
            "d491fedcee2b494489f064ec527f776d",
            "cf1f2ee1c536401c853a79ae36112473",
            "3203916d6c6a4dc88aaa5147bb11d5c1",
            "23c29e485e1440479813e2182de80b6c",
            "ae78d7895c0f47b6b8af63880f560e8a",
            "d8e61edf4d58495894ac9ad63cb24aa4",
            "882c90b3922d480c973177fc9da7249a",
            "1b3fe1c6a69e400bb126a4d656467f05",
            "e952def0dc43497da703c29f08bbefc7",
            "b351ec5e03b540bd9597a6dcbf4d0f1c",
            "744816cef98d4e33bcefa51674c0894c",
            "84b3a197c26c4ec794c53b49e5ebbe6c",
            "d89e5626471947748b8bd8eb8a5507b6",
            "721c6ee32f0d4a68939f4f27f30808e6",
            "fd866217b55240a7941a8c4d9d927599",
            "c48225def98b449e94d193195782f6bd",
            "8f125934ae80441a804b8408c1fef7fb",
            "c5f8839ea63a411799e4a8bae0527c7d",
            "6bc6f6c9d1384caca21ba1ae3e886bfa",
            "1d71182b6a30496297b30d7d33a96f27",
            "e139933ce77c442187accc677ee98d06",
            "d3cf6cffbc1d4b1e960d31a2393541dc",
            "5c75a74e738f454fa7e6bc83704c5779",
            "cc22eee9773642b9a7be84212d85badc",
            "75390eb941c245bfb2c3176594dcea9b",
            "906d89dbc49c4742aa091b8de0fe9619",
            "5dc91e25a97f40d5a28f1d194d6d6835",
            "c94d06be60c448a8a38ed03c3e59b128",
            "5cec76e01b3c4c2ca2c86ad801f14424",
            "ad455669e88b4c1890d9ace06e9832bb",
            "8bf45eaa281740d79d627859b7d62ebd",
            "5fd0cb36e73b45bfad518f2bd10cafa2",
            "9deb5560b3a143249d12958ce22e574e",
            "dcd86a54933d400bb768f357ec36dd7d",
            "caeeb6abfa6d45c2b7f863718b203070",
            "1c54eadedf684415b65f850f8d057e84",
            "6964507023f04e90a22206b438309de0",
            "49565e939fd4475992acf17b4b36a97b",
            "098d5b55f70441c1beda0a00d4b24d42",
            "fe1b86dbace844e29b5a43747531c6c8",
            "7bbbfa5d4e264c4aad0470a89b18728e",
            "27bb1dfed23f425f9e830bbe326c7c9e",
            "fc5eefcf00394e008c17ac820cbab7b8",
            "315b8f17d9244ab280f8225b93435b4f",
            "31bf5fe05ad44351bc85b5fa3655bcd2",
            "fb67a740efbc410991a748222bee1543",
            "b4fef088e3a84c2a87c37c3511330fe8",
            "26af242a905f48d6ad7b46c729b0d248",
            "1d83f4edcf83494f98b559f86d634351",
            "d8f35f2eaa584190ab0851d7c6aecc73",
            "348e37637a88494ba25065270dca70b5",
            "7dc619c52bcb49e7a739be06e3fa6771",
            "150bfa95a1e34e93b4a78f2a8389ffce",
            "da3f5125636e46d4960fa8e80f042703",
            "f7fe38bb40b64d239129b9136dadbbf2"
          ]
        },
        "id": "nudOGsQ8_OEK",
        "outputId": "7c8fa027-08cc-4c0b-b792-1c894aeca7a5"
      },
      "outputs": [
        {
          "output_type": "display_data",
          "data": {
            "text/plain": [
              "Downloading:   0%|          | 0.00/1.76k [00:00<?, ?B/s]"
            ],
            "application/vnd.jupyter.widget-view+json": {
              "version_major": 2,
              "version_minor": 0,
              "model_id": "d491fedcee2b494489f064ec527f776d"
            }
          },
          "metadata": {}
        },
        {
          "output_type": "display_data",
          "data": {
            "text/plain": [
              "Downloading:   0%|          | 0.00/1.14G [00:00<?, ?B/s]"
            ],
            "application/vnd.jupyter.widget-view+json": {
              "version_major": 2,
              "version_minor": 0,
              "model_id": "84b3a197c26c4ec794c53b49e5ebbe6c"
            }
          },
          "metadata": {}
        },
        {
          "output_type": "display_data",
          "data": {
            "text/plain": [
              "Downloading:   0%|          | 0.00/26.0 [00:00<?, ?B/s]"
            ],
            "application/vnd.jupyter.widget-view+json": {
              "version_major": 2,
              "version_minor": 0,
              "model_id": "5c75a74e738f454fa7e6bc83704c5779"
            }
          },
          "metadata": {}
        },
        {
          "output_type": "display_data",
          "data": {
            "text/plain": [
              "Downloading:   0%|          | 0.00/878k [00:00<?, ?B/s]"
            ],
            "application/vnd.jupyter.widget-view+json": {
              "version_major": 2,
              "version_minor": 0,
              "model_id": "dcd86a54933d400bb768f357ec36dd7d"
            }
          },
          "metadata": {}
        },
        {
          "output_type": "display_data",
          "data": {
            "text/plain": [
              "Downloading:   0%|          | 0.00/446k [00:00<?, ?B/s]"
            ],
            "application/vnd.jupyter.widget-view+json": {
              "version_major": 2,
              "version_minor": 0,
              "model_id": "31bf5fe05ad44351bc85b5fa3655bcd2"
            }
          },
          "metadata": {}
        },
        {
          "output_type": "stream",
          "name": "stdout",
          "text": [
            " Bumblebee ordered an Optimus Prime action figure from your online store in\n",
            "Germany. Unfortunately, when I opened the package, I discovered to my horror\n",
            "that I had been sent an action figure of Megatron instead.\n"
          ]
        }
      ],
      "source": [
        "summarizer = pipeline(\"summarization\")\n",
        "outputs = summarizer(text, max_length=45, clean_up_tokenization_spaces=True)\n",
        "print(outputs[0]['summary_text'])"
      ]
    },
    {
      "cell_type": "markdown",
      "metadata": {
        "id": "G7_BRBiF_OEK"
      },
      "source": [
        "### Translation"
      ]
    },
    {
      "cell_type": "code",
      "execution_count": 9,
      "metadata": {
        "colab": {
          "base_uri": "https://localhost:8080/",
          "height": 345,
          "referenced_widgets": [
            "fe827d4adf5e49f8adcddff58768c857",
            "df03729d1fc54e638d6c907c2aaea9fe",
            "f8a9fb7d161a42ba9dd9cbfb05da5df0",
            "5f6f46520d494731bcf022af728fe032",
            "ffdeafbdcb61410e985318c4ac03d286",
            "9c9b007ccaa9487abe61d9ccc6c67baf",
            "23eaf7e8792d41a18f665b7b44ba4240",
            "ffcbc192ccc5443ba94f47536512975a",
            "dde57117047d4f7a86f59bf7ce55cc9d",
            "99ad2d54e7494e16b3d703182a84e82b",
            "9affccbc19784b02b4980102e64bfa98",
            "ac039ac5aecd41348ee4d4bab9e2b0c5",
            "5bc337a065e746fdacd8a7febd73e83a",
            "d4fd84d22f7f42aeaf84071f2c37a10e",
            "05afd884822f4a40986013a66fb2ade1",
            "49d14c46a622492d85cf0778ff117924",
            "06b8c928690648e0a98cdabe634ab2f5",
            "8d6f94c25dd149a99529572f9b5e9390",
            "459626de3edb40efaebcf869ff28feda",
            "6977831edbea45dc9d5f78a5c3e4d36c",
            "403bb7b0dde848fcb2f31167ace6e577",
            "569de061791a4fa3bdbae9c2c8161006",
            "02232f4c2fec4907a6670926a66803ad",
            "8a949db320cd41c5b2b2c24cb4b7c12a",
            "9689c75544c04d2ab14e3f176e136c8e",
            "f24e04cd266f4b10a485ffb5420ef0e8",
            "bc4fc2156c60442aa60482efa8000747",
            "da7bed5c93b54b0e877b52b6aba08342",
            "e34cfc9bc2a24771b3074ea03b1399ed",
            "b14fd3a824144a8fb19c2117903383ff",
            "920c43b7f543485a8c2816c9b4df17b4",
            "af93d00d8ed048d688dfe00869cefc71",
            "2fd77429c19a46f39a22c9c1bc09b42e",
            "5620b5e8d7194666b08df08568310174",
            "1f5000b7e69447f1afbd094e0d20f7e0",
            "d5e836d48df44527a0967efdfa2e25fe",
            "4408537020d249999a70e298f824591f",
            "5a8a84e4625b4aaeb78554d608148b3c",
            "8bfa0143a924496183603eb75f9254a5",
            "34c534e07f544caab34f629ec7732453",
            "8b63214da95940d88d6bc69e56a99193",
            "2deb880127744ff983736a06180395d4",
            "d619afa1753346bdad7723426b6f5635",
            "2f3475ed83564a198e0370ca30d63602",
            "cc6fc044d73d49bc9be48bb07d9ecc67",
            "fac8b6f5d4fb4e82a634db317b546d5e",
            "a2acf15d8c6c474b87995267fb590fd4",
            "2bade15b9b054238a44bc183d3ee2de2",
            "a36fad9a8ff34bb582c49d5dfcacb67e",
            "8dddb342f2ee459dbdf6af36939c11ca",
            "3288f1d780f54e559c99b701d603deb9",
            "a7e8c9d9b10244bd83fac3208ac8ad69",
            "67b3ee064a834f20b26a9a5b0d56084f",
            "3641786348c24027b89bc36782605c9f",
            "6694bda4026649b7b786e223ca22a7e8",
            "8b95f3f13fda4f589809bb9fd5c298c9",
            "100896a6d5194ea1bafeb47ec8ff6681",
            "3ce221de5d2d43a199a9e065a061dd72",
            "cea7ff0fccbf47b681c2eec8feca2686",
            "b3c748878a6c43f5a0a91df971a1c06d",
            "83358ad1de2c400387576b1e869e1675",
            "71bf8734456d43789cca9c11e0aff4dc",
            "fbdbbe1c72104892a9c8b8ca43d7edb1",
            "3b2a0269634845728f8273b6987768bf",
            "bd18caefd4bf497ca9d00776bf7308b9",
            "d1f0c9501bd04069ab7a329e47630f98"
          ]
        },
        "id": "DG_ioUGA_OEK",
        "outputId": "4f228c64-0c54-4293-8f8a-7cb950fcfc6a"
      },
      "outputs": [
        {
          "output_type": "display_data",
          "data": {
            "text/plain": [
              "Downloading:   0%|          | 0.00/1.30k [00:00<?, ?B/s]"
            ],
            "application/vnd.jupyter.widget-view+json": {
              "version_major": 2,
              "version_minor": 0,
              "model_id": "fe827d4adf5e49f8adcddff58768c857"
            }
          },
          "metadata": {}
        },
        {
          "output_type": "display_data",
          "data": {
            "text/plain": [
              "Downloading:   0%|          | 0.00/284M [00:00<?, ?B/s]"
            ],
            "application/vnd.jupyter.widget-view+json": {
              "version_major": 2,
              "version_minor": 0,
              "model_id": "ac039ac5aecd41348ee4d4bab9e2b0c5"
            }
          },
          "metadata": {}
        },
        {
          "output_type": "display_data",
          "data": {
            "text/plain": [
              "Downloading:   0%|          | 0.00/42.0 [00:00<?, ?B/s]"
            ],
            "application/vnd.jupyter.widget-view+json": {
              "version_major": 2,
              "version_minor": 0,
              "model_id": "02232f4c2fec4907a6670926a66803ad"
            }
          },
          "metadata": {}
        },
        {
          "output_type": "display_data",
          "data": {
            "text/plain": [
              "Downloading:   0%|          | 0.00/750k [00:00<?, ?B/s]"
            ],
            "application/vnd.jupyter.widget-view+json": {
              "version_major": 2,
              "version_minor": 0,
              "model_id": "5620b5e8d7194666b08df08568310174"
            }
          },
          "metadata": {}
        },
        {
          "output_type": "display_data",
          "data": {
            "text/plain": [
              "Downloading:   0%|          | 0.00/778k [00:00<?, ?B/s]"
            ],
            "application/vnd.jupyter.widget-view+json": {
              "version_major": 2,
              "version_minor": 0,
              "model_id": "cc6fc044d73d49bc9be48bb07d9ecc67"
            }
          },
          "metadata": {}
        },
        {
          "output_type": "display_data",
          "data": {
            "text/plain": [
              "Downloading:   0%|          | 0.00/1.21M [00:00<?, ?B/s]"
            ],
            "application/vnd.jupyter.widget-view+json": {
              "version_major": 2,
              "version_minor": 0,
              "model_id": "8b95f3f13fda4f589809bb9fd5c298c9"
            }
          },
          "metadata": {}
        },
        {
          "output_type": "stream",
          "name": "stdout",
          "text": [
            "Sehr geehrter Amazon, letzte Woche habe ich eine Optimus Prime Action Figur aus\n",
            "Ihrem Online-Shop in Deutschland bestellt. Leider, als ich das Paket öffnete,\n",
            "entdeckte ich zu meinem Entsetzen, dass ich stattdessen eine Action Figur von\n",
            "Megatron geschickt worden war! Als lebenslanger Feind der Decepticons, Ich\n",
            "hoffe, Sie können mein Dilemma verstehen. Um das Problem zu lösen, Ich fordere\n",
            "einen Austausch von Megatron für die Optimus Prime Figur habe ich bestellt.\n",
            "Anbei sind Kopien meiner Aufzeichnungen über diesen Kauf. Ich erwarte, bald von\n",
            "Ihnen zu hören. Aufrichtig, Bumblebee.\n"
          ]
        }
      ],
      "source": [
        "translator = pipeline(\"translation_en_to_de\",\n",
        "                      model=\"Helsinki-NLP/opus-mt-en-de\")\n",
        "outputs = translator(text, clean_up_tokenization_spaces=True, min_length=100)\n",
        "print(outputs[0]['translation_text'])"
      ]
    },
    {
      "cell_type": "markdown",
      "metadata": {
        "id": "t253OcAL_OEK"
      },
      "source": [
        "### Text Generation"
      ]
    },
    {
      "cell_type": "code",
      "execution_count": 10,
      "metadata": {
        "id": "c_jNEu-i_OEK"
      },
      "outputs": [],
      "source": [
        "#hide\n",
        "from transformers import set_seed\n",
        "set_seed(42) # Set the seed to get reproducible results"
      ]
    },
    {
      "cell_type": "code",
      "execution_count": 11,
      "metadata": {
        "colab": {
          "base_uri": "https://localhost:8080/",
          "height": 515,
          "referenced_widgets": [
            "623e58e14f1c43e48ade2ff73eae4539",
            "4d276fa6698c47a287f0c6eccb2906ee",
            "9c2a5661612646d2bf6237ce0112ae6b",
            "38fd77c1f6624c3ab441c2b24dd5dffe",
            "bbbfeca93a504599805e257a55ef418d",
            "9a1d7d7548d14fa08d3e0e59beef7abd",
            "9d065e33102d44cea6b96dc7f1594c25",
            "33b17699e83e499d8d2f47bbbb38b7bd",
            "a7772ad90cf24a1c97dde2a493e0df53",
            "68eecb5f5a144beabc9644b49b63a9ff",
            "ccacf620518e459590af8f7b217f8948",
            "3e5b216a2bd643ea81a9631b1fddaa34",
            "ef69155e61324b1caa88f436a721b9a6",
            "88b1aead6a09477ea63e0a898940c342",
            "06f5a37e89c34dac8e221e4e4fddbf9f",
            "90561869e05d4abebea818e478a28131",
            "5e231382ee454a8aaee2aaec1f780b81",
            "17e81e56fd5e49e08458800b8722ee02",
            "97d9df5381804c05b8ae5a8261fde2fd",
            "153e2fc2e2a1481ebf9f58bbde9d012f",
            "2ab5bddb8af94427a7951fa895fcd951",
            "a29e579ac2914c748544751ca578d3f7",
            "4048bc940a8a48d3b8eeda3fc6f69394",
            "48afd40dbe114787bbfaafac1dddb90e",
            "7b1e05392ee14adcaa1394f0d30e1c92",
            "7bd34b7cf72743498b9e11a6eb2b3085",
            "4e36cd12056242178a4dfa4186c869e7",
            "5807f71a3a9049e9ace2be14eff40574",
            "97ef487a866d46a59e15e6d3b44db6a0",
            "f9bcfdfaf4b344d0ae93505e80145508",
            "846343e579fc4c5986c37273f0e1ccd3",
            "c6ebc58d888c4472805d7bb3a5c7e707",
            "26d8f85d640b4eb488d25dbda57052a7",
            "7e1cbf273b73461ca44407b201dc95cc",
            "6129c12671a840a79747b372d898f5ac",
            "7826a32ff4464b23b1410ee62730d077",
            "760d39109de4447fb993f0ac0120214b",
            "a4edecd5832c494aa46bef32c88ab065",
            "940aea2fe7934520876729fca79abd3b",
            "0eb261c81a284e9983700dd18aa530c4",
            "83232d55de2b454e8c554fa306e95c80",
            "c2e1abc832e043b6a35e38050817bc87",
            "692b90ceaf4348cfbb4a2c4e2b941c97",
            "9e5697d9f5634539aca398e6ae0f6f73",
            "d56f48d7f7e840c8b794fc0d6aa3b8ff",
            "a9b20e67dc3747edb223ce86efabd297",
            "bf743b09478d4e4f934aba7df52a6928",
            "6023a8c9ef904477957b2e51d4bbd75b",
            "f3028ae257b445a68dc52bf465c3ab12",
            "fa3bf377debb42b6adfb2cb1f2b1cbdd",
            "4e8f6e4b300246f2a1e33fd0edd01f78",
            "d0b22ac843164d8f8261969153c47358",
            "14051560b7c84d3f886c4ca3f3ec907b",
            "1bce08eada5d44119a6550da99738b10",
            "6f2c11b8b0dd4ebe9ca904f821d9edfe",
            "3a96298f242d40a9afb7313978438c6b",
            "aa8938e635f049538c4ae5dc44ac968c",
            "e5720dfbb73946c6b7bd72e877c2a813",
            "77554ddbf2134fd48f3f52b92975be91",
            "67add24973f7480596d701114f576dde",
            "e705982040e4460896d635827f0e253c",
            "0c88330cf74449dc8a831858ec93f70b",
            "ec236e8d471648bf87c8b496de2c0a33",
            "748bc130da5140efbcd25672d2007a4c",
            "2219a1e8f83843d6b660be06fa90a89a",
            "19a07c7b9c25471398bb6c2ab7561ced"
          ]
        },
        "id": "fyYQBghK_OEK",
        "outputId": "c9901143-f896-483f-8c0f-941c3c2ddef2"
      },
      "outputs": [
        {
          "output_type": "display_data",
          "data": {
            "text/plain": [
              "Downloading:   0%|          | 0.00/665 [00:00<?, ?B/s]"
            ],
            "application/vnd.jupyter.widget-view+json": {
              "version_major": 2,
              "version_minor": 0,
              "model_id": "623e58e14f1c43e48ade2ff73eae4539"
            }
          },
          "metadata": {}
        },
        {
          "output_type": "display_data",
          "data": {
            "text/plain": [
              "Downloading:   0%|          | 0.00/523M [00:00<?, ?B/s]"
            ],
            "application/vnd.jupyter.widget-view+json": {
              "version_major": 2,
              "version_minor": 0,
              "model_id": "3e5b216a2bd643ea81a9631b1fddaa34"
            }
          },
          "metadata": {}
        },
        {
          "output_type": "display_data",
          "data": {
            "text/plain": [
              "Downloading:   0%|          | 0.00/26.0 [00:00<?, ?B/s]"
            ],
            "application/vnd.jupyter.widget-view+json": {
              "version_major": 2,
              "version_minor": 0,
              "model_id": "4048bc940a8a48d3b8eeda3fc6f69394"
            }
          },
          "metadata": {}
        },
        {
          "output_type": "display_data",
          "data": {
            "text/plain": [
              "Downloading:   0%|          | 0.00/0.99M [00:00<?, ?B/s]"
            ],
            "application/vnd.jupyter.widget-view+json": {
              "version_major": 2,
              "version_minor": 0,
              "model_id": "7e1cbf273b73461ca44407b201dc95cc"
            }
          },
          "metadata": {}
        },
        {
          "output_type": "display_data",
          "data": {
            "text/plain": [
              "Downloading:   0%|          | 0.00/446k [00:00<?, ?B/s]"
            ],
            "application/vnd.jupyter.widget-view+json": {
              "version_major": 2,
              "version_minor": 0,
              "model_id": "d56f48d7f7e840c8b794fc0d6aa3b8ff"
            }
          },
          "metadata": {}
        },
        {
          "output_type": "display_data",
          "data": {
            "text/plain": [
              "Downloading:   0%|          | 0.00/1.29M [00:00<?, ?B/s]"
            ],
            "application/vnd.jupyter.widget-view+json": {
              "version_major": 2,
              "version_minor": 0,
              "model_id": "3a96298f242d40a9afb7313978438c6b"
            }
          },
          "metadata": {}
        },
        {
          "output_type": "stream",
          "name": "stdout",
          "text": [
            "Dear Amazon, last week I ordered an Optimus Prime action figure from your online\n",
            "store in Germany. Unfortunately, when I opened the package, I discovered to my\n",
            "horror that I had been sent an action figure of Megatron instead! As a lifelong\n",
            "enemy of the Decepticons, I hope you can understand my dilemma. To resolve the\n",
            "issue, I demand an exchange of Megatron for the Optimus Prime figure I ordered.\n",
            "Enclosed are copies of my records concerning this purchase. I expect to hear\n",
            "from you soon. Sincerely, Bumblebee.\n",
            "\n",
            "Customer service response:\n",
            "Dear Bumblebee, I am sorry to hear that your order was mixed up. I am satisfied\n",
            "with your purchase. I will gladly see your product and the packaging again\n",
            "before you go out buying at your shop! I'm a small business owner and have not\n",
            "been able to deliver my product to customer before and after an Amazon purchase,\n",
            "so I apologize.\n",
            "\n",
            "Customer service response:\n",
            "\n",
            "All of my orders arrived\n"
          ]
        }
      ],
      "source": [
        "generator = pipeline(\"text-generation\")\n",
        "response = \"Dear Bumblebee, I am sorry to hear that your order was mixed up.\"\n",
        "prompt = text + \"\\n\\nCustomer service response:\\n\" + response\n",
        "outputs = generator(prompt, max_length=200)\n",
        "print(outputs[0]['generated_text'])"
      ]
    },
    {
      "cell_type": "markdown",
      "metadata": {
        "id": "7OZwd9Mv_OEK"
      },
      "source": [
        "## The Hugging Face Ecosystem"
      ]
    },
    {
      "cell_type": "markdown",
      "metadata": {
        "id": "zPjkmYHf_OEK"
      },
      "source": [
        "<img alt=\"ecosystem\" width=\"500\" caption=\"An overview of the Hugging Face ecosystem of libraries and the Hub.\" src=\"https://github.com/nlp-with-transformers/notebooks/blob/main/images/chapter01_hf-ecosystem.png?raw=1\" id=\"ecosystem\"/>"
      ]
    },
    {
      "cell_type": "markdown",
      "metadata": {
        "id": "9ORhnQGE_OEL"
      },
      "source": [
        "### The Hugging Face Hub"
      ]
    },
    {
      "cell_type": "markdown",
      "metadata": {
        "id": "-KzvMlL7_OEL"
      },
      "source": [
        "<img alt=\"hub-overview\" width=\"1000\" caption=\"The models page of the Hugging Face Hub, showing filters on the left and a list of models on the right.\" src=\"https://github.com/nlp-with-transformers/notebooks/blob/main/images/chapter01_hub-overview.png?raw=1\" id=\"hub-overview\"/>"
      ]
    },
    {
      "cell_type": "markdown",
      "metadata": {
        "id": "sBvdWJy-_OEL"
      },
      "source": [
        "<img alt=\"hub-model-card\" width=\"1000\" caption=\"A example model card from the Hugging Face Hub. The inference widget is shown on the right, where you can interact with the model.\" src=\"https://github.com/nlp-with-transformers/notebooks/blob/main/images/chapter01_hub-model-card.png?raw=1\" id=\"hub-model-card\"/>"
      ]
    },
    {
      "cell_type": "markdown",
      "metadata": {
        "id": "r_OJPUuc_OEL"
      },
      "source": [
        "### Hugging Face Tokenizers"
      ]
    },
    {
      "cell_type": "markdown",
      "metadata": {
        "id": "g1Us7tC9_OEL"
      },
      "source": [
        "### Hugging Face Datasets"
      ]
    },
    {
      "cell_type": "markdown",
      "metadata": {
        "id": "y2IJMBRR_OEL"
      },
      "source": [
        "### Hugging Face Accelerate"
      ]
    },
    {
      "cell_type": "markdown",
      "metadata": {
        "id": "eODHf8yv_OEM"
      },
      "source": [
        "## Main Challenges with Transformers"
      ]
    },
    {
      "cell_type": "markdown",
      "metadata": {
        "id": "JlCKA4zy_OEM"
      },
      "source": [
        "## Conclusion"
      ]
    }
  ],
  "metadata": {
    "kernelspec": {
      "display_name": "Python 3",
      "name": "python3"
    },
    "colab": {
      "provenance": [],
      "gpuType": "T4"
    },
    "accelerator": "GPU"
  },
  "nbformat": 4,
  "nbformat_minor": 0
}
